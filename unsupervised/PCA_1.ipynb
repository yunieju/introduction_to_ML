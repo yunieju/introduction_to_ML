{
 "cells": [
  {
   "cell_type": "markdown",
   "metadata": {},
   "source": [
    "### Your Turn\n",
    "\n",
    "In the previous video, you saw an example of working with some MNIST digits data.  The MNIST dataset can be found here: http://yann.lecun.com/exdb/mnist/.\n",
    "\n",
    "First, let's import the necessary libraries.  Notice there are also some imports from a file called `helper_functions`, which contains the functions used in the previous video."
   ]
  },
  {
   "cell_type": "code",
   "execution_count": 2,
   "metadata": {},
   "outputs": [],
   "source": [
    "import pandas as pd\n",
    "import numpy as np\n",
    "from sklearn.decomposition import PCA\n",
    "from sklearn.preprocessing import StandardScaler\n",
    "from sklearn.ensemble import RandomForestClassifier\n",
    "from sklearn.model_selection import train_test_split\n",
    "from sklearn.metrics import confusion_matrix, accuracy_score\n",
    "from helper_functions import show_images, show_images_by_digit, fit_random_forest_classifier2 \n",
    "from helper_functions import fit_random_forest_classifier, do_pca, plot_components\n",
    "import test_code as t\n",
    "\n",
    "import matplotlib.image as mpimg\n",
    "import matplotlib.pyplot as plt\n",
    "import seaborn as sns\n",
    "\n",
    "%matplotlib inline"
   ]
  },
  {
   "cell_type": "markdown",
   "metadata": {},
   "source": [
    "`1.` Use pandas to read in the dataset, which can be found in this workspace using the filepath **'./data/train.csv'**.  If you have missing values, fill them with 0.  Take a look at info about the data using `head`, `tail`, `describe`, `info`, etc.  You can learn more about the data values from the article here: https://homepages.inf.ed.ac.uk/rbf/HIPR2/value.htm."
   ]
  },
  {
   "cell_type": "code",
   "execution_count": 3,
   "metadata": {},
   "outputs": [
    {
     "data": {
      "text/html": [
       "<div>\n",
       "<style scoped>\n",
       "    .dataframe tbody tr th:only-of-type {\n",
       "        vertical-align: middle;\n",
       "    }\n",
       "\n",
       "    .dataframe tbody tr th {\n",
       "        vertical-align: top;\n",
       "    }\n",
       "\n",
       "    .dataframe thead th {\n",
       "        text-align: right;\n",
       "    }\n",
       "</style>\n",
       "<table border=\"1\" class=\"dataframe\">\n",
       "  <thead>\n",
       "    <tr style=\"text-align: right;\">\n",
       "      <th></th>\n",
       "      <th>label</th>\n",
       "      <th>pixel0</th>\n",
       "      <th>pixel1</th>\n",
       "      <th>pixel2</th>\n",
       "      <th>pixel3</th>\n",
       "      <th>pixel4</th>\n",
       "      <th>pixel5</th>\n",
       "      <th>pixel6</th>\n",
       "      <th>pixel7</th>\n",
       "      <th>pixel8</th>\n",
       "      <th>...</th>\n",
       "      <th>pixel774</th>\n",
       "      <th>pixel775</th>\n",
       "      <th>pixel776</th>\n",
       "      <th>pixel777</th>\n",
       "      <th>pixel778</th>\n",
       "      <th>pixel779</th>\n",
       "      <th>pixel780</th>\n",
       "      <th>pixel781</th>\n",
       "      <th>pixel782</th>\n",
       "      <th>pixel783</th>\n",
       "    </tr>\n",
       "  </thead>\n",
       "  <tbody>\n",
       "    <tr>\n",
       "      <th>0</th>\n",
       "      <td>1</td>\n",
       "      <td>0</td>\n",
       "      <td>0</td>\n",
       "      <td>0</td>\n",
       "      <td>0</td>\n",
       "      <td>0</td>\n",
       "      <td>0</td>\n",
       "      <td>0</td>\n",
       "      <td>0</td>\n",
       "      <td>0</td>\n",
       "      <td>...</td>\n",
       "      <td>0.0</td>\n",
       "      <td>0.0</td>\n",
       "      <td>0.0</td>\n",
       "      <td>0.0</td>\n",
       "      <td>0.0</td>\n",
       "      <td>0.0</td>\n",
       "      <td>0.0</td>\n",
       "      <td>0.0</td>\n",
       "      <td>0.0</td>\n",
       "      <td>0.0</td>\n",
       "    </tr>\n",
       "    <tr>\n",
       "      <th>1</th>\n",
       "      <td>0</td>\n",
       "      <td>0</td>\n",
       "      <td>0</td>\n",
       "      <td>0</td>\n",
       "      <td>0</td>\n",
       "      <td>0</td>\n",
       "      <td>0</td>\n",
       "      <td>0</td>\n",
       "      <td>0</td>\n",
       "      <td>0</td>\n",
       "      <td>...</td>\n",
       "      <td>0.0</td>\n",
       "      <td>0.0</td>\n",
       "      <td>0.0</td>\n",
       "      <td>0.0</td>\n",
       "      <td>0.0</td>\n",
       "      <td>0.0</td>\n",
       "      <td>0.0</td>\n",
       "      <td>0.0</td>\n",
       "      <td>0.0</td>\n",
       "      <td>0.0</td>\n",
       "    </tr>\n",
       "    <tr>\n",
       "      <th>2</th>\n",
       "      <td>1</td>\n",
       "      <td>0</td>\n",
       "      <td>0</td>\n",
       "      <td>0</td>\n",
       "      <td>0</td>\n",
       "      <td>0</td>\n",
       "      <td>0</td>\n",
       "      <td>0</td>\n",
       "      <td>0</td>\n",
       "      <td>0</td>\n",
       "      <td>...</td>\n",
       "      <td>0.0</td>\n",
       "      <td>0.0</td>\n",
       "      <td>0.0</td>\n",
       "      <td>0.0</td>\n",
       "      <td>0.0</td>\n",
       "      <td>0.0</td>\n",
       "      <td>0.0</td>\n",
       "      <td>0.0</td>\n",
       "      <td>0.0</td>\n",
       "      <td>0.0</td>\n",
       "    </tr>\n",
       "    <tr>\n",
       "      <th>3</th>\n",
       "      <td>4</td>\n",
       "      <td>0</td>\n",
       "      <td>0</td>\n",
       "      <td>0</td>\n",
       "      <td>0</td>\n",
       "      <td>0</td>\n",
       "      <td>0</td>\n",
       "      <td>0</td>\n",
       "      <td>0</td>\n",
       "      <td>0</td>\n",
       "      <td>...</td>\n",
       "      <td>0.0</td>\n",
       "      <td>0.0</td>\n",
       "      <td>0.0</td>\n",
       "      <td>0.0</td>\n",
       "      <td>0.0</td>\n",
       "      <td>0.0</td>\n",
       "      <td>0.0</td>\n",
       "      <td>0.0</td>\n",
       "      <td>0.0</td>\n",
       "      <td>0.0</td>\n",
       "    </tr>\n",
       "    <tr>\n",
       "      <th>4</th>\n",
       "      <td>0</td>\n",
       "      <td>0</td>\n",
       "      <td>0</td>\n",
       "      <td>0</td>\n",
       "      <td>0</td>\n",
       "      <td>0</td>\n",
       "      <td>0</td>\n",
       "      <td>0</td>\n",
       "      <td>0</td>\n",
       "      <td>0</td>\n",
       "      <td>...</td>\n",
       "      <td>0.0</td>\n",
       "      <td>0.0</td>\n",
       "      <td>0.0</td>\n",
       "      <td>0.0</td>\n",
       "      <td>0.0</td>\n",
       "      <td>0.0</td>\n",
       "      <td>0.0</td>\n",
       "      <td>0.0</td>\n",
       "      <td>0.0</td>\n",
       "      <td>0.0</td>\n",
       "    </tr>\n",
       "    <tr>\n",
       "      <th>5</th>\n",
       "      <td>0</td>\n",
       "      <td>0</td>\n",
       "      <td>0</td>\n",
       "      <td>0</td>\n",
       "      <td>0</td>\n",
       "      <td>0</td>\n",
       "      <td>0</td>\n",
       "      <td>0</td>\n",
       "      <td>0</td>\n",
       "      <td>0</td>\n",
       "      <td>...</td>\n",
       "      <td>0.0</td>\n",
       "      <td>0.0</td>\n",
       "      <td>0.0</td>\n",
       "      <td>0.0</td>\n",
       "      <td>0.0</td>\n",
       "      <td>0.0</td>\n",
       "      <td>0.0</td>\n",
       "      <td>0.0</td>\n",
       "      <td>0.0</td>\n",
       "      <td>0.0</td>\n",
       "    </tr>\n",
       "    <tr>\n",
       "      <th>6</th>\n",
       "      <td>7</td>\n",
       "      <td>0</td>\n",
       "      <td>0</td>\n",
       "      <td>0</td>\n",
       "      <td>0</td>\n",
       "      <td>0</td>\n",
       "      <td>0</td>\n",
       "      <td>0</td>\n",
       "      <td>0</td>\n",
       "      <td>0</td>\n",
       "      <td>...</td>\n",
       "      <td>0.0</td>\n",
       "      <td>0.0</td>\n",
       "      <td>0.0</td>\n",
       "      <td>0.0</td>\n",
       "      <td>0.0</td>\n",
       "      <td>0.0</td>\n",
       "      <td>0.0</td>\n",
       "      <td>0.0</td>\n",
       "      <td>0.0</td>\n",
       "      <td>0.0</td>\n",
       "    </tr>\n",
       "    <tr>\n",
       "      <th>7</th>\n",
       "      <td>3</td>\n",
       "      <td>0</td>\n",
       "      <td>0</td>\n",
       "      <td>0</td>\n",
       "      <td>0</td>\n",
       "      <td>0</td>\n",
       "      <td>0</td>\n",
       "      <td>0</td>\n",
       "      <td>0</td>\n",
       "      <td>0</td>\n",
       "      <td>...</td>\n",
       "      <td>0.0</td>\n",
       "      <td>0.0</td>\n",
       "      <td>0.0</td>\n",
       "      <td>0.0</td>\n",
       "      <td>0.0</td>\n",
       "      <td>0.0</td>\n",
       "      <td>0.0</td>\n",
       "      <td>0.0</td>\n",
       "      <td>0.0</td>\n",
       "      <td>0.0</td>\n",
       "    </tr>\n",
       "    <tr>\n",
       "      <th>8</th>\n",
       "      <td>5</td>\n",
       "      <td>0</td>\n",
       "      <td>0</td>\n",
       "      <td>0</td>\n",
       "      <td>0</td>\n",
       "      <td>0</td>\n",
       "      <td>0</td>\n",
       "      <td>0</td>\n",
       "      <td>0</td>\n",
       "      <td>0</td>\n",
       "      <td>...</td>\n",
       "      <td>0.0</td>\n",
       "      <td>0.0</td>\n",
       "      <td>0.0</td>\n",
       "      <td>0.0</td>\n",
       "      <td>0.0</td>\n",
       "      <td>0.0</td>\n",
       "      <td>0.0</td>\n",
       "      <td>0.0</td>\n",
       "      <td>0.0</td>\n",
       "      <td>0.0</td>\n",
       "    </tr>\n",
       "    <tr>\n",
       "      <th>9</th>\n",
       "      <td>3</td>\n",
       "      <td>0</td>\n",
       "      <td>0</td>\n",
       "      <td>0</td>\n",
       "      <td>0</td>\n",
       "      <td>0</td>\n",
       "      <td>0</td>\n",
       "      <td>0</td>\n",
       "      <td>0</td>\n",
       "      <td>0</td>\n",
       "      <td>...</td>\n",
       "      <td>0.0</td>\n",
       "      <td>0.0</td>\n",
       "      <td>0.0</td>\n",
       "      <td>0.0</td>\n",
       "      <td>0.0</td>\n",
       "      <td>0.0</td>\n",
       "      <td>0.0</td>\n",
       "      <td>0.0</td>\n",
       "      <td>0.0</td>\n",
       "      <td>0.0</td>\n",
       "    </tr>\n",
       "  </tbody>\n",
       "</table>\n",
       "<p>10 rows × 785 columns</p>\n",
       "</div>"
      ],
      "text/plain": [
       "   label  pixel0  pixel1  pixel2  pixel3  pixel4  pixel5  pixel6  pixel7  \\\n",
       "0      1       0       0       0       0       0       0       0       0   \n",
       "1      0       0       0       0       0       0       0       0       0   \n",
       "2      1       0       0       0       0       0       0       0       0   \n",
       "3      4       0       0       0       0       0       0       0       0   \n",
       "4      0       0       0       0       0       0       0       0       0   \n",
       "5      0       0       0       0       0       0       0       0       0   \n",
       "6      7       0       0       0       0       0       0       0       0   \n",
       "7      3       0       0       0       0       0       0       0       0   \n",
       "8      5       0       0       0       0       0       0       0       0   \n",
       "9      3       0       0       0       0       0       0       0       0   \n",
       "\n",
       "   pixel8    ...     pixel774  pixel775  pixel776  pixel777  pixel778  \\\n",
       "0       0    ...          0.0       0.0       0.0       0.0       0.0   \n",
       "1       0    ...          0.0       0.0       0.0       0.0       0.0   \n",
       "2       0    ...          0.0       0.0       0.0       0.0       0.0   \n",
       "3       0    ...          0.0       0.0       0.0       0.0       0.0   \n",
       "4       0    ...          0.0       0.0       0.0       0.0       0.0   \n",
       "5       0    ...          0.0       0.0       0.0       0.0       0.0   \n",
       "6       0    ...          0.0       0.0       0.0       0.0       0.0   \n",
       "7       0    ...          0.0       0.0       0.0       0.0       0.0   \n",
       "8       0    ...          0.0       0.0       0.0       0.0       0.0   \n",
       "9       0    ...          0.0       0.0       0.0       0.0       0.0   \n",
       "\n",
       "   pixel779  pixel780  pixel781  pixel782  pixel783  \n",
       "0       0.0       0.0       0.0       0.0       0.0  \n",
       "1       0.0       0.0       0.0       0.0       0.0  \n",
       "2       0.0       0.0       0.0       0.0       0.0  \n",
       "3       0.0       0.0       0.0       0.0       0.0  \n",
       "4       0.0       0.0       0.0       0.0       0.0  \n",
       "5       0.0       0.0       0.0       0.0       0.0  \n",
       "6       0.0       0.0       0.0       0.0       0.0  \n",
       "7       0.0       0.0       0.0       0.0       0.0  \n",
       "8       0.0       0.0       0.0       0.0       0.0  \n",
       "9       0.0       0.0       0.0       0.0       0.0  \n",
       "\n",
       "[10 rows x 785 columns]"
      ]
     },
     "execution_count": 3,
     "metadata": {},
     "output_type": "execute_result"
    }
   ],
   "source": [
    "train = pd.read_csv('./data/train.csv')\n",
    "train.fillna(0, inplace=True)\n",
    "train.head(10)"
   ]
  },
  {
   "cell_type": "markdown",
   "metadata": {},
   "source": [
    "`2.` Create a vector called y that holds the **label** column of the dataset.  Store all other columns holding the pixel data of your images in X."
   ]
  },
  {
   "cell_type": "code",
   "execution_count": 4,
   "metadata": {},
   "outputs": [],
   "source": [
    "y = train['label']\n",
    "X = train.drop(\"label\", axis = 1)"
   ]
  },
  {
   "cell_type": "code",
   "execution_count": 5,
   "metadata": {},
   "outputs": [
    {
     "name": "stdout",
     "output_type": "stream",
     "text": [
      "That looks right!\n"
     ]
    }
   ],
   "source": [
    "#Check Your Solution \n",
    "t.question_two_check(y, X)"
   ]
  },
  {
   "cell_type": "markdown",
   "metadata": {},
   "source": [
    "`3.` Now use the `show_images_by_digit` function from the `helper_functions` module to take a look some of the `1`'s, `2`'s, `3`'s, or any other value you are interested in looking at.  Do they all look like what you would expect?"
   ]
  },
  {
   "cell_type": "code",
   "execution_count": 6,
   "metadata": {},
   "outputs": [
    {
     "name": "stderr",
     "output_type": "stream",
     "text": [
      "/home/workspace/helper_functions.py:63: FutureWarning: Method .as_matrix will be removed in a future version. Use .values instead.\n",
      "  mat_data = X.iloc[indices[0][digit_num]].as_matrix().reshape(28,28)  #reshape images\n"
     ]
    },
    {
     "data": {
      "image/png": "[encoded data removed]",
      "text/plain": [
       "<matplotlib.figure.Figure at 0x7f385aab0940>"
      ]
     },
     "metadata": {},
     "output_type": "display_data"
    }
   ],
   "source": [
    "show_images_by_digit(2) # Try looking at a few other digits"
   ]
  },
  {
   "cell_type": "markdown",
   "metadata": {},
   "source": [
    "`4.` Now that you have had a chance to look through some of the data, you can try some different algorithms to see what works well to use the X matrix to predict the response well.  If you would like to use the function I used in the video regarding random forests, you can run the code below, but you might also try any of the supervised techniques you learned in the previous course to see what works best.\n",
    "\n",
    "If you decide to put together your own classifier, remember the 4 steps to this process:\n",
    "\n",
    "**I.** Instantiate your model. (with all the hyperparameter values you care about)\n",
    "\n",
    "**II.** Fit your model. (to the training data)\n",
    "\n",
    "**III.** Predict using your fitted model.  (on the test data)\n",
    "\n",
    "**IV.** Score your model. (comparing the predictions to the actual values on the test data)\n",
    "\n",
    "You can also try a grid search to see if you can improve on your initial predictions."
   ]
  },
  {
   "cell_type": "code",
   "execution_count": 7,
   "metadata": {},
   "outputs": [
    {
     "name": "stdout",
     "output_type": "stream",
     "text": [
      "[[199   0   1   0   0   1   6   0   2   0]\n",
      " [  0 234   3   0   0   1   1   2   2   0]\n",
      " [  1   5 212   0   3   1   1   5   0   0]\n",
      " [  1   0   5 176   0   5   0   1   2   1]\n",
      " [  0   0   1   0 171   0   1   0   0   5]\n",
      " [  2   2   0   3   2 171   3   1   2   0]\n",
      " [  4   0   1   0   1   0 204   1   0   0]\n",
      " [  0   0   6   0   6   0   0 203   4   6]\n",
      " [  1   1   1   4   1   3   1   0 187   3]\n",
      " [  2   1   0   2  11   2   0   0   3 187]]\n",
      "AxesSubplot(0.125,0.125;0.62x0.755)\n",
      "0.934166266218\n"
     ]
    },
    {
     "data": {
      "text/plain": [
       "0.93416626621816434"
      ]
     },
     "execution_count": 7,
     "metadata": {},
     "output_type": "execute_result"
    },
    {
     "data": {
      "image/png": "[encoded data removed]",
      "text/plain": [
       "<matplotlib.figure.Figure at 0x7f3855f34c88>"
      ]
     },
     "metadata": {
      "needs_background": "light"
     },
     "output_type": "display_data"
    }
   ],
   "source": [
    "# Remove the tag to fit the RF model from the video, you can also try fitting your own!\n",
    "# fit_random_forest_classifier(X, y)\n",
    "\n",
    "#Because we will fit this more than once, might as well make a function\n",
    "def fit_random_forest_classifier(X, y):\n",
    "    '''\n",
    "    INPUT: names are pretty self explanatory\n",
    "    OUTPUT: none - prints the confusion matrix and accuracy\n",
    "    '''\n",
    "    #First let's create training and testing data\n",
    "    X_train, X_test, y_train, y_test = train_test_split(X, y, test_size=0.33, random_state=42)\n",
    "\n",
    "    #We could grid search and tune, but let's just fit a simple model to see how it does\n",
    "    #instantiate\n",
    "    clf = RandomForestClassifier(n_estimators=100, max_depth=None)\n",
    "\n",
    "    #fit\n",
    "    clf.fit(X_train, y_train)\n",
    "\n",
    "    #predict\n",
    "    y_preds = clf.predict(X_test)\n",
    "\n",
    "    #score\n",
    "    mat = confusion_matrix(y_test, y_preds)\n",
    "    print(mat)\n",
    "    print(sns.heatmap(mat, annot=True, cmap='bwr', linewidths=.5))\n",
    "    acc = accuracy_score(y_test, y_preds)\n",
    "    print(acc)\n",
    "    return acc\n",
    "    \n",
    "fit_random_forest_classifier(X, y)\n"
   ]
  },
  {
   "cell_type": "markdown",
   "metadata": {},
   "source": [
    "`5.` Now for the purpose of this lesson, to look at PCA.  In the video, I created a model just using two features.  Replicate the process below. You can use the same `do_pca` function that was created in the previous video.  Store your variables in **pca** and **X_pca**."
   ]
  },
  {
   "cell_type": "code",
   "execution_count": 8,
   "metadata": {},
   "outputs": [],
   "source": [
    "def do_pca(n_components, data):\n",
    "    '''\n",
    "    Transforms data using PCA to create n_components, and provides back the results of the\n",
    "    transformation.\n",
    "    \n",
    "    INPUT: n_components - int - the number of principal components to create\n",
    "           data - the data you would like to transform\n",
    "           \n",
    "    OUTPUT: pca - the pca object created after fitting the data\n",
    "            X_pca - the transformed X matrix with new number of components\n",
    "    '''\n",
    "    X = StandardScaler().fit_transform(data)\n",
    "    pca = PCA(n_components)\n",
    "    X_pca = pca.fit_transform(X)\n",
    "    return pca, X_pca\n",
    "\n",
    "pca, X_pca = do_pca(2, X)"
   ]
  },
  {
   "cell_type": "markdown",
   "metadata": {},
   "source": [
    "`6.` The **X_pca** has reduced the original number of more than 700 features down to only 2 features that capture the majority of the variability in the pixel values.  Use the space below to fit a model using these two features to predict the written value.  You can use the random forest model by running `fit_random_forest_classifier` the same way as in the video. How well does it perform?"
   ]
  },
  {
   "cell_type": "code",
   "execution_count": 9,
   "metadata": {},
   "outputs": [
    {
     "name": "stdout",
     "output_type": "stream",
     "text": [
      "[[109   0  35   9   7  12  30   0   7   0]\n",
      " [  0 206   0   3   2   9   3   8   8   4]\n",
      " [ 41   2  65  29  14  21  37   0  13   6]\n",
      " [  9   2  32  20  24  27  26  13  23  15]\n",
      " [  7   5  14  17  50  13  16  12  16  28]\n",
      " [  9   8  31  27  15  24  27   3  31  11]\n",
      " [ 29   5  55  19  10  25  36   3  28   1]\n",
      " [  4   2   4  12  31   9   2  99   7  55]\n",
      " [  5   6  25  30  25  29  24   7  40  11]\n",
      " [  2  12   4  19  28  10   4  58   7  64]]\n",
      "AxesSubplot(0.125,0.125;0.62x0.755)\n",
      "0.342623738587\n"
     ]
    },
    {
     "data": {
      "text/plain": [
       "0.34262373858721767"
      ]
     },
     "execution_count": 9,
     "metadata": {},
     "output_type": "execute_result"
    },
    {
     "data": {
      "image/png": "[encoded data removed]",
      "text/plain": [
       "<matplotlib.figure.Figure at 0x7f3855e02198>"
      ]
     },
     "metadata": {
      "needs_background": "light"
     },
     "output_type": "display_data"
    }
   ],
   "source": [
    "fit_random_forest_classifier(X_pca, y)"
   ]
  },
  {
   "cell_type": "markdown",
   "metadata": {},
   "source": [
    "`7.` Now you can look at the separation of the values using the `plot_components` function.  If you plot all of the points (more than 40,000), you will likely not be able to see much of what is happening.  I recommend plotting just a subset of the data.  Which value(s) have some separation that are being predicted better than others based on these two components?"
   ]
  },
  {
   "cell_type": "code",
   "execution_count": 10,
   "metadata": {},
   "outputs": [
    {
     "data": {
      "image/png": "[encoded data removed]",
      "text/plain": [
       "<matplotlib.figure.Figure at 0x7f3855e989b0>"
      ]
     },
     "metadata": {},
     "output_type": "display_data"
    }
   ],
   "source": [
    "# Try plotting some of the numbers below - you can change the number\n",
    "# of digits that are plotted, but it is probably best not to plot the \n",
    "# entire dataset.  Your visual will not be readable.\n",
    "\n",
    "def plot_components(X, y):\n",
    "    '''\n",
    "    plots the data in a 2 dimensional space to view separation\n",
    "    INPUT: pretty straightforward again\n",
    "    OUTPUT: none\n",
    "    '''\n",
    "    x_min, x_max = np.min(X, 0), np.max(X, 0)\n",
    "    X = (X - x_min) / (x_max - x_min)\n",
    "    plt.figure(figsize=(10, 6))\n",
    "    for i in range(X.shape[0]):\n",
    "        plt.text(X[i, 0], X[i, 1], str(y[i]), color=plt.cm.Set1(y[i]), fontdict={'size': 15})\n",
    "\n",
    "    plt.xticks([]), plt.yticks([]), plt.ylim([-0.1,1.1]), plt.xlim([-0.1,1.1])\n",
    "    \n",
    "plot_components(X_pca[:100], y[:100])"
   ]
  },
  {
   "cell_type": "markdown",
   "metadata": {},
   "source": [
    "`8.` See if you can find a reduced number of features that provides better separation to make predictions.  Say you want to get separation that allows for accuracy of more than 90%, how many principal components are needed to obtain this level of accuracy?  Were you able to substantially reduce the number of features needed in your final model?"
   ]
  },
  {
   "cell_type": "code",
   "execution_count": 15,
   "metadata": {},
   "outputs": [
    {
     "name": "stdout",
     "output_type": "stream",
     "text": [
      "[[191   0   3   0   0   3   9   1   1   1]\n",
      " [  0 234   2   1   0   1   2   0   3   0]\n",
      " [  2   2 205   7   3   0   3   3   3   0]\n",
      " [  1   0   8 166   0   2   1   2  10   1]\n",
      " [  0   0   3   0 156   0   4   2   0  13]\n",
      " [  2   0   4   6   2 162   4   0   3   3]\n",
      " [  6   0   1   0   2   1 200   0   1   0]\n",
      " [  0   2   5   2   2   0   1 194   3  16]\n",
      " [  2   2   0  11   1   7   0   0 178   1]\n",
      " [  1   0   2   2  25   1   0  17   3 157]]\n",
      "AxesSubplot(0.125,0.125;0.62x0.755)\n",
      "0.885631907737\n",
      "[[192   0   3   0   1   3   7   1   1   1]\n",
      " [  0 233   2   1   0   0   2   0   4   1]\n",
      " [  2   2 203   8   3   0   3   3   4   0]\n",
      " [  1   0   8 163   0   6   1   2   9   1]\n",
      " [  0   0   3   0 154   1   5   1   0  14]\n",
      " [  2   0   3   7   2 161   3   0   4   4]\n",
      " [  3   0   2   0   4   0 201   0   1   0]\n",
      " [  1   1   5   1   2   0   1 199   3  12]\n",
      " [  2   2   0  14   2   7   1   0 173   1]\n",
      " [  3   0   1   3  18   0   0  15   3 165]]\n",
      "AxesSubplot(0.125,0.125;0.496x0.755)\n",
      "0.886112445939\n",
      "[[192   0   3   1   0   3   7   1   1   1]\n",
      " [  0 233   2   1   0   2   2   0   3   0]\n",
      " [  1   2 206   6   1   0   4   3   4   1]\n",
      " [  1   0   8 159   0   9   0   2   9   3]\n",
      " [  0   0   3   0 155   1   5   1   0  13]\n",
      " [  2   0   3   7   2 162   0   0   7   3]\n",
      " [  4   0   1   0   3   2 200   0   1   0]\n",
      " [  0   1   6   1   4   0   1 195   4  13]\n",
      " [  3   2   1  10   0  10   0   0 174   2]\n",
      " [  1   0   2   3  11   0   0  14   3 174]]\n",
      "AxesSubplot(0.125,0.125;0.3968x0.755)\n",
      "0.888995675156\n",
      "[[191   0   3   1   0   3   7   2   2   0]\n",
      " [  0 233   2   0   0   1   2   0   4   1]\n",
      " [  2   2 207   6   2   0   2   3   4   0]\n",
      " [  0   0  10 160   0   8   0   2   9   2]\n",
      " [  0   0   5   0 156   1   4   1   1  10]\n",
      " [  1   0   2   6   1 169   1   0   3   3]\n",
      " [  3   0   1   0   4   2 200   0   1   0]\n",
      " [  0   1   5   2   4   0   1 194   3  15]\n",
      " [  1   2   1  12   1  10   0   0 173   2]\n",
      " [  2   0   2   2  16   0   0  17   3 166]]\n",
      "AxesSubplot(0.125,0.125;0.31744x0.755)\n",
      "0.888515136953\n",
      "[[191   0   3   1   1   2   7   1   1   2]\n",
      " [  0 234   2   0   0   0   2   0   4   1]\n",
      " [  2   2 208   5   1   0   2   4   3   1]\n",
      " [  0   0   9 162   0   8   0   2   8   2]\n",
      " [  0   0   4   0 156   1   4   1   0  12]\n",
      " [  2   0   2   5   1 168   2   0   3   3]\n",
      " [  4   0   2   0   2   1 201   0   1   0]\n",
      " [  1   1   4   2   3   0   1 198   2  13]\n",
      " [  3   2   1  13   2   5   1   0 173   2]\n",
      " [  1   0   2   3  14   0   0  12   2 174]]\n",
      "AxesSubplot(0.125,0.125;0.253952x0.755)\n",
      "0.896203748198\n",
      "[[191   0   3   0   0   2   9   2   1   1]\n",
      " [  0 233   2   1   0   0   2   0   4   1]\n",
      " [  2   3 206   5   2   0   3   3   4   0]\n",
      " [  0   0   9 163   0   8   1   1   5   4]\n",
      " [  0   0   4   0 157   1   4   1   0  11]\n",
      " [  1   0   2   7   1 166   0   0   5   4]\n",
      " [  5   0   1   0   2   0 201   0   2   0]\n",
      " [  0   1   2   4   5   0   0 198   4  11]\n",
      " [  2   2   1  11   2   8   1   0 173   2]\n",
      " [  2   0   1   3  19   0   0  16   1 166]]\n",
      "AxesSubplot(0.125,0.125;0.203162x0.755)\n",
      "0.890917827967\n",
      "[[191   0   3   0   0   3   9   1   1   1]\n",
      " [  0 234   2   0   0   1   2   0   4   0]\n",
      " [  2   2 207   5   3   0   2   3   3   1]\n",
      " [  0   0   9 167   0   4   0   1   7   3]\n",
      " [  0   0   3   0 155   1   5   1   0  13]\n",
      " [  2   0   3   9   1 162   1   0   5   3]\n",
      " [  4   0   1   0   2   2 201   1   0   0]\n",
      " [  0   0   7   2   3   0   1 198   0  14]\n",
      " [  3   2   2  10   1   5   0   0 176   3]\n",
      " [  2   0   2   3  20   1   0  17   1 162]]\n",
      "AxesSubplot(0.125,0.125;0.162529x0.755)\n",
      "0.890437289765\n",
      "[[190   0   3   1   1   2   7   3   1   1]\n",
      " [  0 234   2   0   0   0   2   0   4   1]\n",
      " [  3   2 206   4   3   0   3   3   3   1]\n",
      " [  0   0   7 168   0   6   0   2   7   1]\n",
      " [  0   0   5   0 153   1   4   1   0  14]\n",
      " [  2   0   2   8   1 167   0   0   2   4]\n",
      " [  2   0   2   0   2   0 204   0   1   0]\n",
      " [  0   0   6   1   4   0   0 198   3  13]\n",
      " [  0   2   1  13   1   9   1   0 173   2]\n",
      " [  1   0   2   2  16   0   0  10   1 176]]\n",
      "AxesSubplot(0.125,0.125;0.130023x0.755)\n",
      "0.898125901009\n",
      "[[194   0   2   1   0   1   7   1   1   2]\n",
      " [  0 234   2   1   0   0   2   0   3   1]\n",
      " [  1   2 212   2   1   0   2   3   3   2]\n",
      " [  0   0   9 166   0   4   1   2   7   2]\n",
      " [  0   0   5   0 152   1   4   2   0  14]\n",
      " [  2   0   2   9   0 166   0   0   4   3]\n",
      " [  3   0   3   0   2   2 201   0   0   0]\n",
      " [  0   1   7   1   4   0   0 197   3  12]\n",
      " [  1   2   0  12   0   8   1   0 176   2]\n",
      " [  2   0   2   2  14   1   0  18   2 167]]\n",
      "AxesSubplot(0.125,0.125;0.104019x0.755)\n",
      "0.896203748198\n",
      "[[193   0   3   0   0   1   8   2   1   1]\n",
      " [  0 234   2   0   0   0   2   0   4   1]\n",
      " [  1   2 207   6   2   0   3   4   3   0]\n",
      " [  1   0   8 166   0   5   0   2   7   2]\n",
      " [  0   0   4   0 154   1   5   1   0  13]\n",
      " [  1   0   2   7   1 166   1   0   4   4]\n",
      " [  4   0   1   0   2   1 203   0   0   0]\n",
      " [  0   0   7   1   4   0   0 197   2  14]\n",
      " [  0   2   1  14   2   6   1   0 174   2]\n",
      " [  1   0   1   2  16   0   0  13   3 172]]\n",
      "AxesSubplot(0.125,0.125;0.083215x0.755)\n",
      "0.896684286401\n",
      "[[196   0   2   1   0   1   7   0   1   1]\n",
      " [  0 233   2   0   0   0   2   0   6   0]\n",
      " [  2   2 205   5   2   0   4   3   5   0]\n",
      " [  0   0   9 165   0   7   0   2   6   2]\n",
      " [  0   0   6   0 151   1   4   2   0  14]\n",
      " [  1   0   1  10   1 165   0   0   5   3]\n",
      " [  3   0   1   0   1   2 204   0   0   0]\n",
      " [  0   1   7   1   3   0   0 199   1  13]\n",
      " [  3   1   1  11   1   6   1   1 174   3]\n",
      " [  1   0   2   3  11   0   0  14   1 176]]\n",
      "AxesSubplot(0.125,0.125;0.066572x0.755)\n",
      "0.897645362806\n",
      "[[199   0   1   0   0   1   6   1   1   0]\n",
      " [  0 233   2   0   0   0   2   0   5   1]\n",
      " [  3   3 206   3   2   0   3   4   4   0]\n",
      " [  0   0  10 165   0   5   1   3   6   1]\n",
      " [  0   0   6   0 154   1   4   2   0  11]\n",
      " [  1   0   2   7   1 166   2   0   3   4]\n",
      " [  4   0   2   0   2   1 201   0   1   0]\n",
      " [  0   0   7   2   4   0   0 199   1  12]\n",
      " [  0   1   2  13   1   9   1   0 173   2]\n",
      " [  1   0   2   3  16   0   0  15   1 170]]\n",
      "AxesSubplot(0.125,0.125;0.0532576x0.755)\n",
      "0.896684286401\n",
      "[[191   0   3   0   1   2   8   2   1   1]\n",
      " [  0 234   2   1   0   0   2   0   3   1]\n",
      " [  1   3 208   6   2   0   1   4   3   0]\n",
      " [  0   0  10 164   0   6   1   3   6   1]\n",
      " [  0   0   5   0 158   1   3   1   0  10]\n",
      " [  1   0   2   6   0 169   0   0   5   3]\n",
      " [  4   0   1   0   3   2 200   0   1   0]\n",
      " [  1   0   5   3   2   0   1 199   2  12]\n",
      " [  2   1   0  12   1   8   0   1 177   0]\n",
      " [  1   0   2   3  15   1   0  12   1 173]]\n",
      "AxesSubplot(0.125,0.125;0.0426061x0.755)\n",
      "0.90004805382\n"
     ]
    },
    {
     "data": {
      "image/png": "[encoded data removed]",
      "text/plain": [
       "<matplotlib.figure.Figure at 0x7f385a8ff4a8>"
      ]
     },
     "metadata": {
      "needs_background": "light"
     },
     "output_type": "display_data"
    }
   ],
   "source": [
    "accuracy= []\n",
    "for num_features in range(15, 30):\n",
    "    pca, X_pca = do_pca(num_features, X)\n",
    "    acc = fit_random_forest_classifier(X_pca, y)\n",
    "    accuracy.append(acc)\n",
    "    if acc > .9:\n",
    "        break\n"
   ]
  },
  {
   "cell_type": "code",
   "execution_count": 16,
   "metadata": {},
   "outputs": [
    {
     "data": {
      "text/plain": [
       "13"
      ]
     },
     "execution_count": 16,
     "metadata": {},
     "output_type": "execute_result"
    }
   ],
   "source": [
    "len(accuracy)"
   ]
  },
  {
   "cell_type": "markdown",
   "metadata": {},
   "source": [
    "`9.` It is possible that extra features in the dataset even lead to overfitting or the [curse of dimensionality](https://stats.stackexchange.com/questions/65379/machine-learning-curse-of-dimensionality-explained).  Do you have evidence of this happening for this dataset?  Can you support your evidence with a visual or table?  To avoid printing out all of the metric results, I created another function called `fit_random_forest_classifier2`.  I ran through a significant number of components to create the visual for the solution, but I strongly recommend you look in the range below 100 principal components!"
   ]
  },
  {
   "cell_type": "code",
   "execution_count": 17,
   "metadata": {},
   "outputs": [],
   "source": [
    "accs = []\n",
    "comps = []\n",
    "for comp in range(2, 20):\n",
    "   comps.append(comp)\n",
    "   pca, X_pca = do_pca(comp, X)\n",
    "   acc = fit_random_forest_classifier2(X_pca, y)\n",
    "   accs.append(acc)"
   ]
  },
  {
   "cell_type": "code",
   "execution_count": 18,
   "metadata": {},
   "outputs": [
    {
     "data": {
      "image/png": "[encoded data removed]",
      "text/plain": [
       "<matplotlib.figure.Figure at 0x7f384f1188d0>"
      ]
     },
     "metadata": {
      "needs_background": "light"
     },
     "output_type": "display_data"
    }
   ],
   "source": [
    "plt.plot(comps, accs, 'bo');\n",
    "plt.xlabel('Number of Components');\n",
    "plt.ylabel('Accuracy');\n",
    "plt.title('Number of Components by Accuracy');"
   ]
  },
  {
   "cell_type": "code",
   "execution_count": 19,
   "metadata": {},
   "outputs": [
    {
     "data": {
      "text/plain": [
       "(0.89283998077847193, 18)"
      ]
     },
     "execution_count": 19,
     "metadata": {},
     "output_type": "execute_result"
    }
   ],
   "source": [
    "# The max accuracy and caorresponding number of components\n",
    "np.max(accs), comps[np.where(accs == np.max(accs))[0][0]]"
   ]
  },
  {
   "cell_type": "markdown",
   "metadata": {},
   "source": [
    " "
   ]
  },
  {
   "cell_type": "code",
   "execution_count": null,
   "metadata": {
    "collapsed": true
   },
   "outputs": [],
   "source": []
  }
 ],
 "metadata": {
  "kernelspec": {
   "display_name": "Python 3",
   "language": "python",
   "name": "python3"
  },
  "language_info": {
   "codemirror_mode": {
    "name": "ipython",
    "version": 3
   },
   "file_extension": ".py",
   "mimetype": "text/x-python",
   "name": "python",
   "nbconvert_exporter": "python",
   "pygments_lexer": "ipython3",
   "version": "3.6.3"
  }
 },
 "nbformat": 4,
 "nbformat_minor": 2
}
